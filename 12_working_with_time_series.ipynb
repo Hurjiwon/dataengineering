{
 "cells": [
  {
   "cell_type": "code",
   "execution_count": 8,
   "id": "c7f99ac1",
   "metadata": {},
   "outputs": [
    {
     "name": "stdout",
     "output_type": "stream",
     "text": [
      "2021-10-28 00:00:00\n"
     ]
    }
   ],
   "source": [
    "from datetime import datetime\n",
    "\n",
    "t=datetime(year=2021, month=10, day=28)\n",
    "print(t)"
   ]
  },
  {
   "cell_type": "code",
   "execution_count": 9,
   "id": "ab310717",
   "metadata": {},
   "outputs": [
    {
     "name": "stdout",
     "output_type": "stream",
     "text": [
      "2021-10-28 00:00:00\n"
     ]
    }
   ],
   "source": [
    "from dateutil import parser\n",
    "date=parser.parse(\"28th of October, 2021\")\n",
    "print(date)"
   ]
  },
  {
   "cell_type": "code",
   "execution_count": 10,
   "id": "42fa6d33",
   "metadata": {},
   "outputs": [
    {
     "data": {
      "text/plain": [
       "'Thursday'"
      ]
     },
     "execution_count": 10,
     "metadata": {},
     "output_type": "execute_result"
    }
   ],
   "source": [
    "date.strftime('%A')"
   ]
  },
  {
   "cell_type": "code",
   "execution_count": 11,
   "id": "b4eb0d03",
   "metadata": {},
   "outputs": [
    {
     "data": {
      "text/plain": [
       "numpy.str_"
      ]
     },
     "execution_count": 11,
     "metadata": {},
     "output_type": "execute_result"
    }
   ],
   "source": [
    "import numpy as np\n",
    "date=np.array(['2021-10-27','2021-10-28'])\n",
    "type(date[0])"
   ]
  },
  {
   "cell_type": "code",
   "execution_count": 12,
   "id": "be718309",
   "metadata": {},
   "outputs": [
    {
     "name": "stdout",
     "output_type": "stream",
     "text": [
      "2021-10-28\n"
     ]
    }
   ],
   "source": [
    "date=np.datetime64('2021-10-28')\n",
    "print(date)"
   ]
  },
  {
   "cell_type": "code",
   "execution_count": 13,
   "id": "68a6fc13",
   "metadata": {},
   "outputs": [
    {
     "data": {
      "text/plain": [
       "array(['2021-10-28', '2021-10-29', '2021-10-30', '2021-10-31',\n",
       "       '2021-11-01', '2021-11-02', '2021-11-03', '2021-11-04',\n",
       "       '2021-11-05', '2021-11-06', '2021-11-07', '2021-11-08'],\n",
       "      dtype='datetime64[D]')"
      ]
     },
     "execution_count": 13,
     "metadata": {},
     "output_type": "execute_result"
    }
   ],
   "source": [
    "date+np.arange(12)"
   ]
  },
  {
   "cell_type": "code",
   "execution_count": 14,
   "id": "a93ebc0e",
   "metadata": {},
   "outputs": [],
   "source": [
    "from datetime import datetime"
   ]
  },
  {
   "cell_type": "code",
   "execution_count": 15,
   "id": "d551d7f9",
   "metadata": {},
   "outputs": [],
   "source": [
    "from dateutil import parser"
   ]
  },
  {
   "cell_type": "code",
   "execution_count": 16,
   "id": "2670105f",
   "metadata": {},
   "outputs": [],
   "source": [
    "import numpy as np\n",
    "import pandas as pd"
   ]
  },
  {
   "cell_type": "code",
   "execution_count": 17,
   "id": "0aa87b87",
   "metadata": {},
   "outputs": [],
   "source": [
    "date=np.datetime64('2021-10-28')"
   ]
  },
  {
   "cell_type": "code",
   "execution_count": 18,
   "id": "b2b6aeab",
   "metadata": {},
   "outputs": [
    {
     "data": {
      "text/plain": [
       "DatetimeIndex(['2021-10-27', '2021-10-28', '2021-10-29', '2021-10-30',\n",
       "               '2021-10-31'],\n",
       "              dtype='datetime64[ns]', freq='D')"
      ]
     },
     "execution_count": 18,
     "metadata": {},
     "output_type": "execute_result"
    }
   ],
   "source": [
    "pd.date_range('2021-10-27','2021-10-31')"
   ]
  },
  {
   "cell_type": "code",
   "execution_count": 19,
   "id": "0ed10c67",
   "metadata": {},
   "outputs": [
    {
     "data": {
      "text/plain": [
       "DatetimeIndex(['2021-11-01', '2021-11-02', '2021-11-03', '2021-11-04',\n",
       "               '2021-11-05', '2021-11-06', '2021-11-07', '2021-11-08',\n",
       "               '2021-11-09', '2021-11-10'],\n",
       "              dtype='datetime64[ns]', freq='D')"
      ]
     },
     "execution_count": 19,
     "metadata": {},
     "output_type": "execute_result"
    }
   ],
   "source": [
    "pd.date_range('2021-11-01',periods=10, freq='D')"
   ]
  },
  {
   "cell_type": "code",
   "execution_count": 20,
   "id": "f4b53e24",
   "metadata": {},
   "outputs": [
    {
     "data": {
      "text/plain": [
       "DatetimeIndex(['2021-11-01', '2021-11-02', '2021-11-03', '2021-11-04',\n",
       "               '2021-11-05', '2021-11-08', '2021-11-09', '2021-11-10',\n",
       "               '2021-11-11', '2021-11-12'],\n",
       "              dtype='datetime64[ns]', freq='B')"
      ]
     },
     "execution_count": 20,
     "metadata": {},
     "output_type": "execute_result"
    }
   ],
   "source": [
    "pd.date_range('2021-11-01',periods=10, freq='B')  "
   ]
  },
  {
   "cell_type": "code",
   "execution_count": 21,
   "id": "1bf87fc4",
   "metadata": {},
   "outputs": [
    {
     "data": {
      "text/plain": [
       "DatetimeIndex(['2021-11-30', '2021-12-31', '2022-01-31', '2022-02-28',\n",
       "               '2022-03-31', '2022-04-30', '2022-05-31', '2022-06-30',\n",
       "               '2022-07-31', '2022-08-31'],\n",
       "              dtype='datetime64[ns]', freq='M')"
      ]
     },
     "execution_count": 21,
     "metadata": {},
     "output_type": "execute_result"
    }
   ],
   "source": [
    "pd.date_range('2021-11-01',periods=10, freq='M')"
   ]
  },
  {
   "cell_type": "code",
   "execution_count": 22,
   "id": "3fe61ab4",
   "metadata": {},
   "outputs": [
    {
     "data": {
      "text/plain": [
       "DatetimeIndex(['2021-12-31', '2022-12-31', '2023-12-31', '2024-12-31',\n",
       "               '2025-12-31', '2026-12-31', '2027-12-31', '2028-12-31',\n",
       "               '2029-12-31', '2030-12-31'],\n",
       "              dtype='datetime64[ns]', freq='A-DEC')"
      ]
     },
     "execution_count": 22,
     "metadata": {},
     "output_type": "execute_result"
    }
   ],
   "source": [
    "pd.date_range('2021-11-01',periods=10, freq='A')"
   ]
  },
  {
   "cell_type": "code",
   "execution_count": 23,
   "id": "a43cba92",
   "metadata": {},
   "outputs": [
    {
     "data": {
      "text/plain": [
       "DatetimeIndex(['2021-11-01', '2021-12-01', '2022-01-01', '2022-02-01',\n",
       "               '2022-03-01', '2022-04-01', '2022-05-01', '2022-06-01',\n",
       "               '2022-07-01', '2022-08-01'],\n",
       "              dtype='datetime64[ns]', freq='MS')"
      ]
     },
     "execution_count": 23,
     "metadata": {},
     "output_type": "execute_result"
    }
   ],
   "source": [
    "pd.date_range('2021-11-01',periods=10, freq='MS')"
   ]
  },
  {
   "cell_type": "code",
   "execution_count": 24,
   "id": "2fe8703c",
   "metadata": {},
   "outputs": [
    {
     "data": {
      "text/plain": [
       "DatetimeIndex(['2022-01-01', '2022-04-01', '2022-07-01', '2022-10-01',\n",
       "               '2023-01-01', '2023-04-01', '2023-07-01', '2023-10-01',\n",
       "               '2024-01-01', '2024-04-01'],\n",
       "              dtype='datetime64[ns]', freq='QS-JAN')"
      ]
     },
     "execution_count": 24,
     "metadata": {},
     "output_type": "execute_result"
    }
   ],
   "source": [
    "pd.date_range('2021-11-01',periods=10, freq='QS')"
   ]
  },
  {
   "cell_type": "code",
   "execution_count": 25,
   "id": "8df8a43b",
   "metadata": {},
   "outputs": [
    {
     "data": {
      "text/plain": [
       "DatetimeIndex(['2021-11-01 00:00:00', '2021-11-01 02:30:00',\n",
       "               '2021-11-01 05:00:00', '2021-11-01 07:30:00',\n",
       "               '2021-11-01 10:00:00', '2021-11-01 12:30:00',\n",
       "               '2021-11-01 15:00:00', '2021-11-01 17:30:00',\n",
       "               '2021-11-01 20:00:00'],\n",
       "              dtype='datetime64[ns]', freq='150T')"
      ]
     },
     "execution_count": 25,
     "metadata": {},
     "output_type": "execute_result"
    }
   ],
   "source": [
    "pd.date_range('2021-11-01',periods=9, freq='2H30T')"
   ]
  },
  {
   "cell_type": "code",
   "execution_count": 26,
   "id": "dcba70fd",
   "metadata": {},
   "outputs": [
    {
     "data": {
      "text/plain": [
       "Timestamp('2021-11-02 15:28:30')"
      ]
     },
     "execution_count": 26,
     "metadata": {},
     "output_type": "execute_result"
    }
   ],
   "source": [
    "from pandas.tseries.offsets import DateOffset\n",
    "ts=pd.Timestamp('2021-10-31 23:28:30')\n",
    "ts+DateOffset(hours=40)"
   ]
  },
  {
   "cell_type": "code",
   "execution_count": 27,
   "id": "61326fd4",
   "metadata": {},
   "outputs": [
    {
     "name": "stdout",
     "output_type": "stream",
     "text": [
      "Collecting pandas_datareader\n",
      "  Downloading pandas_datareader-0.10.0-py3-none-any.whl (109 kB)\n",
      "Requirement already satisfied: lxml in c:\\users\\jenny\\anaconda3\\lib\\site-packages (from pandas_datareader) (4.6.3)\n",
      "Requirement already satisfied: pandas>=0.23 in c:\\users\\jenny\\anaconda3\\lib\\site-packages (from pandas_datareader) (1.2.4)\n",
      "Requirement already satisfied: requests>=2.19.0 in c:\\users\\jenny\\anaconda3\\lib\\site-packages (from pandas_datareader) (2.25.1)\n",
      "Requirement already satisfied: pytz>=2017.3 in c:\\users\\jenny\\anaconda3\\lib\\site-packages (from pandas>=0.23->pandas_datareader) (2021.1)\n",
      "Requirement already satisfied: python-dateutil>=2.7.3 in c:\\users\\jenny\\anaconda3\\lib\\site-packages (from pandas>=0.23->pandas_datareader) (2.8.1)\n",
      "Requirement already satisfied: numpy>=1.16.5 in c:\\users\\jenny\\anaconda3\\lib\\site-packages (from pandas>=0.23->pandas_datareader) (1.20.1)\n",
      "Requirement already satisfied: six>=1.5 in c:\\users\\jenny\\anaconda3\\lib\\site-packages (from python-dateutil>=2.7.3->pandas>=0.23->pandas_datareader) (1.15.0)\n",
      "Requirement already satisfied: idna<3,>=2.5 in c:\\users\\jenny\\anaconda3\\lib\\site-packages (from requests>=2.19.0->pandas_datareader) (2.10)\n",
      "Requirement already satisfied: chardet<5,>=3.0.2 in c:\\users\\jenny\\anaconda3\\lib\\site-packages (from requests>=2.19.0->pandas_datareader) (4.0.0)\n",
      "Requirement already satisfied: certifi>=2017.4.17 in c:\\users\\jenny\\anaconda3\\lib\\site-packages (from requests>=2.19.0->pandas_datareader) (2020.12.5)\n",
      "Requirement already satisfied: urllib3<1.27,>=1.21.1 in c:\\users\\jenny\\anaconda3\\lib\\site-packages (from requests>=2.19.0->pandas_datareader) (1.26.4)\n",
      "Installing collected packages: pandas-datareader\n",
      "Note: you may need to restart the kernel to use updated packages.\n",
      "Successfully installed pandas-datareader-0.10.0\n"
     ]
    }
   ],
   "source": [
    "pip install pandas_datareader"
   ]
  },
  {
   "cell_type": "code",
   "execution_count": 33,
   "id": "1e77ee0f",
   "metadata": {},
   "outputs": [
    {
     "name": "stdout",
     "output_type": "stream",
     "text": [
      "Date\n",
      "2004-08-19      49.982655\n",
      "2004-08-20      53.952770\n",
      "2004-08-23      54.495735\n",
      "2004-08-24      52.239197\n",
      "2004-08-25      52.802086\n",
      "                 ...     \n",
      "2020-12-24    1738.849976\n",
      "2020-12-28    1776.089966\n",
      "2020-12-29    1758.719971\n",
      "2020-12-30    1739.520020\n",
      "2020-12-31    1751.880005\n",
      "Name: Close, Length: 4122, dtype: float64\n"
     ]
    }
   ],
   "source": [
    "from pandas_datareader import data\n",
    "\n",
    "goog=data.DataReader('GOOG', start='2004', end='2021', data_source='yahoo')\n",
    "\n",
    "goog=goog['Close']\n",
    "print(goog)"
   ]
  },
  {
   "cell_type": "code",
   "execution_count": 34,
   "id": "0fa069f7",
   "metadata": {},
   "outputs": [
    {
     "data": {
      "image/png": "[encoded data removed]",
      "text/plain": [
       "<Figure size 432x288 with 1 Axes>"
      ]
     },
     "metadata": {
      "needs_background": "light"
     },
     "output_type": "display_data"
    }
   ],
   "source": [
    "goog.plot();"
   ]
  },
  {
   "cell_type": "code",
   "execution_count": 35,
   "id": "e1a88cab",
   "metadata": {},
   "outputs": [
    {
     "data": {
      "text/plain": [
       "Date\n",
       "2004-09-30      55.211886\n",
       "2004-12-31      85.182200\n",
       "2005-03-31      94.299493\n",
       "2005-06-30     120.979508\n",
       "2005-09-30     147.513490\n",
       "                 ...     \n",
       "2019-12-31    1290.565161\n",
       "2020-03-31    1356.975803\n",
       "2020-06-30    1349.559919\n",
       "2020-09-30    1525.829367\n",
       "2020-12-31    1687.301720\n",
       "Freq: Q-DEC, Name: Close, Length: 66, dtype: float64"
      ]
     },
     "execution_count": 35,
     "metadata": {},
     "output_type": "execute_result"
    }
   ],
   "source": [
    "goog.resample('Q').mean()"
   ]
  },
  {
   "cell_type": "code",
   "execution_count": 36,
   "id": "2c5e22f8",
   "metadata": {},
   "outputs": [
    {
     "data": {
      "text/plain": [
       "Date\n",
       "2004-09-30      53.853144\n",
       "2004-12-31      87.434772\n",
       "2005-03-31      94.052467\n",
       "2005-06-30     115.671432\n",
       "2005-09-30     147.260529\n",
       "                 ...     \n",
       "2019-12-31    1298.994995\n",
       "2020-03-31    1412.074951\n",
       "2020-06-30    1375.739990\n",
       "2020-09-30    1516.830017\n",
       "2020-12-31    1741.289978\n",
       "Freq: Q-DEC, Name: Close, Length: 66, dtype: float64"
      ]
     },
     "execution_count": 36,
     "metadata": {},
     "output_type": "execute_result"
    }
   ],
   "source": [
    "goog.resample('Q').median()"
   ]
  },
  {
   "cell_type": "code",
   "execution_count": 37,
   "id": "b94d54a2",
   "metadata": {},
   "outputs": [
    {
     "data": {
      "text/plain": [
       "Date\n",
       "2004-08-19 00:00:00      49.982655\n",
       "2004-08-19 01:00:00            NaN\n",
       "2004-08-19 02:00:00            NaN\n",
       "2004-08-19 03:00:00            NaN\n",
       "2004-08-19 04:00:00            NaN\n",
       "                          ...     \n",
       "2020-12-30 20:00:00            NaN\n",
       "2020-12-30 21:00:00            NaN\n",
       "2020-12-30 22:00:00            NaN\n",
       "2020-12-30 23:00:00            NaN\n",
       "2020-12-31 00:00:00    1751.880005\n",
       "Freq: H, Name: Close, Length: 143473, dtype: float64"
      ]
     },
     "execution_count": 37,
     "metadata": {},
     "output_type": "execute_result"
    }
   ],
   "source": [
    "goog.resample('H').max()"
   ]
  },
  {
   "cell_type": "code",
   "execution_count": null,
   "id": "4bb2767a",
   "metadata": {},
   "outputs": [],
   "source": []
  }
 ],
 "metadata": {
  "kernelspec": {
   "display_name": "Python 3",
   "language": "python",
   "name": "python3"
  },
  "language_info": {
   "codemirror_mode": {
    "name": "ipython",
    "version": 3
   },
   "file_extension": ".py",
   "mimetype": "text/x-python",
   "name": "python",
   "nbconvert_exporter": "python",
   "pygments_lexer": "ipython3",
   "version": "3.8.8"
  }
 },
 "nbformat": 4,
 "nbformat_minor": 5
}
