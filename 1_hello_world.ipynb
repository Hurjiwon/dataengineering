{
 "cells": [
  {
   "cell_type": "code",
   "execution_count": 6,
   "id": "fe7f8640-954c-4a01-bee0-b4edab4e3e9b",
   "metadata": {
    "tags": []
   },
   "outputs": [
    {
     "name": "stdout",
     "output_type": "stream",
     "text": [
      "Hello World!\n",
      "100\n",
      "3.141592\n",
      "My name is jiwon!\n"
     ]
    }
   ],
   "source": [
    "print(\"Hello World!\")\n",
    "print(100)\n",
    "pi = 3.141592\n",
    "print(pi)\n",
    "\n",
    "intro=\"My name is \"\n",
    "name = \"jiwon\"\n",
    "print(intro+name+\"!\")"
   ]
  },
  {
   "cell_type": "code",
   "execution_count": 11,
   "id": "e883d70e-7dd0-412e-bc38-9134db24b9b0",
   "metadata": {
    "collapsed": true,
    "jupyter": {
     "outputs_hidden": true
    },
    "tags": []
   },
   "outputs": [
    {
     "ename": "SyntaxError",
     "evalue": "leading zeros in decimal integer literals are not permitted; use an 0o prefix for octal integers (<ipython-input-11-9bee40e29130>, line 6)",
     "output_type": "error",
     "traceback": [
      "\u001b[1;36m  File \u001b[1;32m\"<ipython-input-11-9bee40e29130>\"\u001b[1;36m, line \u001b[1;32m6\u001b[0m\n\u001b[1;33m    user_birth= 0407\u001b[0m\n\u001b[1;37m                   ^\u001b[0m\n\u001b[1;31mSyntaxError\u001b[0m\u001b[1;31m:\u001b[0m leading zeros in decimal integer literals are not permitted; use an 0o prefix for octal integers\n"
     ]
    }
   ],
   "source": [
    "user_name = \"jiwon\"\n",
    "user_id = 202055073\n",
    "user_email= \"jenny0407b@hs.ac.kr\"\n",
    "is_student = true\n",
    "#본인\n",
    "user_age = 21\n",
    "user_birth= 0407\n",
    "user_woman=true\n"
   ]
  },
  {
   "cell_type": "code",
   "execution_count": 12,
   "id": "b2081a1b-4f9f-4790-b84c-c4c98913815e",
   "metadata": {},
   "outputs": [],
   "source": [
    "chairs = 4\n",
    "tables = 1\n",
    "broken_chairs = -2\n",
    "sofas = 0\n",
    "#본인의 집-사물-\n",
    "bed = 4\n",
    "chairs = 13\n",
    "sofas = 0"
   ]
  },
  {
   "cell_type": "code",
   "execution_count": 13,
   "id": "f206cd3c-55af-49dc-9842-66b1375feb02",
   "metadata": {},
   "outputs": [],
   "source": [
    "pi = 3.14\n",
    "kospi_index = 3125.76\n",
    "krw_usd_exchange = 1176.83\n",
    "#본인\n",
    "pi = 3.141592\n",
    "kospi=3155.32\n",
    "kosdaq=1036.21"
   ]
  },
  {
   "cell_type": "code",
   "execution_count": 14,
   "id": "840e39a0-854c-49a1-9760-39313e210555",
   "metadata": {},
   "outputs": [
    {
     "ename": "NameError",
     "evalue": "name 'spring' is not defined",
     "output_type": "error",
     "traceback": [
      "\u001b[1;31m---------------------------------------------------------------------------\u001b[0m",
      "\u001b[1;31mNameError\u001b[0m                                 Traceback (most recent call last)",
      "\u001b[1;32m<ipython-input-14-978f3f56a6b3>\u001b[0m in \u001b[0;36m<module>\u001b[1;34m\u001b[0m\n\u001b[0;32m      1\u001b[0m \u001b[0mfavorite_game\u001b[0m \u001b[1;33m=\u001b[0m \u001b[1;34m\"elder scrolles\"\u001b[0m\u001b[1;33m\u001b[0m\u001b[1;33m\u001b[0m\u001b[0m\n\u001b[0;32m      2\u001b[0m \u001b[1;31m#본인\u001b[0m\u001b[1;33m\u001b[0m\u001b[1;33m\u001b[0m\u001b[1;33m\u001b[0m\u001b[0m\n\u001b[1;32m----> 3\u001b[1;33m \u001b[0mfavorite_weather\u001b[0m \u001b[1;33m=\u001b[0m \u001b[0mspring\u001b[0m\u001b[1;33m\u001b[0m\u001b[1;33m\u001b[0m\u001b[0m\n\u001b[0m\u001b[0;32m      4\u001b[0m \u001b[0mfavorite_perfume\u001b[0m \u001b[1;33m=\u001b[0m \u001b[0mjomalone\u001b[0m\u001b[1;33m\u001b[0m\u001b[1;33m\u001b[0m\u001b[0m\n\u001b[0;32m      5\u001b[0m \u001b[0mfavorite_place\u001b[0m \u001b[1;33m=\u001b[0m \u001b[0mcafe\u001b[0m\u001b[1;33m\u001b[0m\u001b[1;33m\u001b[0m\u001b[0m\n",
      "\u001b[1;31mNameError\u001b[0m: name 'spring' is not defined"
     ]
    }
   ],
   "source": [
    "favorite_game = \"elder scrolles\"\n",
    "#본인\n",
    "favorite_weather = spring\n",
    "favorite_perfume = jomalone\n",
    "favorite_place = cafe"
   ]
  },
  {
   "cell_type": "code",
   "execution_count": 16,
   "id": "63a1aaf8-3496-4870-a612-9130a600b057",
   "metadata": {},
   "outputs": [
    {
     "name": "stdout",
     "output_type": "stream",
     "text": [
      "16\n"
     ]
    }
   ],
   "source": [
    "a=8\n",
    "a*=2\n",
    "print(a)"
   ]
  },
  {
   "cell_type": "code",
   "execution_count": 20,
   "id": "c63c9fc8-51ad-4036-b3c6-d267a394b3b4",
   "metadata": {},
   "outputs": [],
   "source": [
    "#레벨 1\n",
    "##레벨2"
   ]
  },
  {
   "cell_type": "code",
   "execution_count": null,
   "id": "ef6b35ea-c9ec-41f1-8649-2b16c6b96141",
   "metadata": {},
   "outputs": [],
   "source": []
  }
 ],
 "metadata": {
  "kernelspec": {
   "display_name": "Python 3",
   "language": "python",
   "name": "python3"
  },
  "language_info": {
   "codemirror_mode": {
    "name": "ipython",
    "version": 3
   },
   "file_extension": ".py",
   "mimetype": "text/x-python",
   "name": "python",
   "nbconvert_exporter": "python",
   "pygments_lexer": "ipython3",
   "version": "3.8.8"
  }
 },
 "nbformat": 4,
 "nbformat_minor": 5
}
