{
 "cells": [
  {
   "cell_type": "code",
   "execution_count": 4,
   "id": "0557626d-26e1-48df-9777-57de66351f3b",
   "metadata": {},
   "outputs": [
    {
     "name": "stdout",
     "output_type": "stream",
     "text": [
      "True\n",
      "<class 'bool'>\n"
     ]
    }
   ],
   "source": [
    "is_tested = True\n",
    "print(is_tested)\n",
    "print(type(is_tested))"
   ]
  },
  {
   "cell_type": "code",
   "execution_count": 6,
   "id": "03b72981-089f-4e84-82e3-a64a9a91233f",
   "metadata": {},
   "outputs": [
    {
     "name": "stdout",
     "output_type": "stream",
     "text": [
      "True\n"
     ]
    }
   ],
   "source": [
    "print(\"Yes\"=='Yes')"
   ]
  },
  {
   "cell_type": "code",
   "execution_count": 10,
   "id": "51476ceb-123e-49a5-a220-f21bf7624b65",
   "metadata": {},
   "outputs": [
    {
     "name": "stdout",
     "output_type": "stream",
     "text": [
      "True\n"
     ]
    }
   ],
   "source": [
    "print((2>1)==(5<10))"
   ]
  },
  {
   "cell_type": "code",
   "execution_count": 9,
   "id": "3fdcb513-6778-4865-8eab-b8bfbf9ae783",
   "metadata": {},
   "outputs": [
    {
     "name": "stdout",
     "output_type": "stream",
     "text": [
      "False\n"
     ]
    }
   ],
   "source": [
    "c='2'\n",
    "d=2\n",
    "print(c==d)"
   ]
  },
  {
   "cell_type": "code",
   "execution_count": 11,
   "id": "607845e5-1045-44b1-8f1c-07c9dd5e5cb3",
   "metadata": {},
   "outputs": [
    {
     "data": {
      "text/plain": [
       "False"
      ]
     },
     "execution_count": 11,
     "metadata": {},
     "output_type": "execute_result"
    }
   ],
   "source": [
    "chr='a'\n",
    "a=98\n",
    "chr==a"
   ]
  },
  {
   "cell_type": "code",
   "execution_count": 15,
   "id": "4c191c49-ff59-414b-8313-e93cc99f87b5",
   "metadata": {},
   "outputs": [
    {
     "data": {
      "text/plain": [
       "True"
      ]
     },
     "execution_count": 15,
     "metadata": {},
     "output_type": "execute_result"
    }
   ],
   "source": [
    "True or True"
   ]
  },
  {
   "cell_type": "code",
   "execution_count": 16,
   "id": "4efcf616-3dcf-4cd4-8b33-15b8d427bd16",
   "metadata": {},
   "outputs": [
    {
     "data": {
      "text/plain": [
       "True"
      ]
     },
     "execution_count": 16,
     "metadata": {},
     "output_type": "execute_result"
    }
   ],
   "source": [
    "True or False"
   ]
  },
  {
   "cell_type": "code",
   "execution_count": 18,
   "id": "e5f24721-80fc-443c-8a4c-4c9966c2604f",
   "metadata": {},
   "outputs": [
    {
     "data": {
      "text/plain": [
       "False"
      ]
     },
     "execution_count": 18,
     "metadata": {},
     "output_type": "execute_result"
    }
   ],
   "source": [
    "False or False"
   ]
  },
  {
   "cell_type": "code",
   "execution_count": 20,
   "id": "66beda19-5252-4272-a281-ccbb998a0452",
   "metadata": {},
   "outputs": [
    {
     "data": {
      "text/plain": [
       "True"
      ]
     },
     "execution_count": 20,
     "metadata": {},
     "output_type": "execute_result"
    }
   ],
   "source": [
    "1<2 or 3<1"
   ]
  },
  {
   "cell_type": "code",
   "execution_count": 21,
   "id": "ce3c4b60-34a6-4641-84a8-1997da0411ef",
   "metadata": {},
   "outputs": [
    {
     "data": {
      "text/plain": [
       "False"
      ]
     },
     "execution_count": 21,
     "metadata": {},
     "output_type": "execute_result"
    }
   ],
   "source": [
    "3<1 or 1>6"
   ]
  },
  {
   "cell_type": "code",
   "execution_count": 22,
   "id": "3a8513a1-acf7-4799-9d01-323d16801cc7",
   "metadata": {},
   "outputs": [
    {
     "data": {
      "text/plain": [
       "True"
      ]
     },
     "execution_count": 22,
     "metadata": {},
     "output_type": "execute_result"
    }
   ],
   "source": [
    "1==1 or 1<2"
   ]
  },
  {
   "cell_type": "code",
   "execution_count": 23,
   "id": "9b079678-3d92-4223-a679-2139647141f0",
   "metadata": {},
   "outputs": [
    {
     "name": "stdout",
     "output_type": "stream",
     "text": [
      "말티푸 맞아요.\n"
     ]
    }
   ],
   "source": [
    "puppy = \"maltepoo\"\n",
    "is_yes= False\n",
    "if puppy ==\"maltese\":\n",
    "    is_yes = True\n",
    "    print(\"말티즈 맞아요.\")\n",
    "\n",
    "elif puppy ==\"poodle\":\n",
    "    is_yes = True\n",
    "    print(\"푸들 맞아요.\")\n",
    "\n",
    "else:\n",
    "    is_yes = True\n",
    "    print(\"말티푸 맞아요.\")"
   ]
  },
  {
   "cell_type": "code",
   "execution_count": 26,
   "id": "59c8482c-18f8-4de6-9542-0802e8d85252",
   "metadata": {},
   "outputs": [
    {
     "name": "stdout",
     "output_type": "stream",
     "text": [
      "['Error']\n",
      "continue...\n"
     ]
    }
   ],
   "source": [
    "x=1\n",
    "try :\n",
    "    print(y)\n",
    "    print(x)\n",
    "except:\n",
    "    print(['Error'])\n",
    "print(\"continue...\")"
   ]
  },
  {
   "cell_type": "code",
   "execution_count": null,
   "id": "2e83ece2-b1d2-4a0e-b9ff-7d00030863e2",
   "metadata": {},
   "outputs": [],
   "source": []
  }
 ],
 "metadata": {
  "kernelspec": {
   "display_name": "Python 3",
   "language": "python",
   "name": "python3"
  },
  "language_info": {
   "codemirror_mode": {
    "name": "ipython",
    "version": 3
   },
   "file_extension": ".py",
   "mimetype": "text/x-python",
   "name": "python",
   "nbconvert_exporter": "python",
   "pygments_lexer": "ipython3",
   "version": "3.8.8"
  }
 },
 "nbformat": 4,
 "nbformat_minor": 5
}
