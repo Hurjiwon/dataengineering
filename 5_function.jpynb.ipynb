{
 "cells": [
  {
   "cell_type": "code",
   "execution_count": 9,
   "id": "7e86ce27",
   "metadata": {},
   "outputs": [
    {
     "name": "stdout",
     "output_type": "stream",
     "text": [
      "4\n"
     ]
    },
    {
     "data": {
      "text/plain": [
       "2"
      ]
     },
     "execution_count": 9,
     "metadata": {},
     "output_type": "execute_result"
    }
   ],
   "source": [
    "def my_function(x):\n",
    "    return x+1\n",
    "\n",
    "y=3\n",
    "result = my_function(y)\n",
    "print(result)\n",
    "\n",
    "x=1\n",
    "\n",
    "class my_class:\n",
    "    def my_method(self):\n",
    "        return x+1\n",
    "    \n",
    "cls = my_class()\n",
    "cls.my_method()"
   ]
  },
  {
   "cell_type": "code",
   "execution_count": 1,
   "id": "f3b43360",
   "metadata": {},
   "outputs": [
    {
     "name": "stdout",
     "output_type": "stream",
     "text": [
      "Hello everyone, My name is jiwon, I was born in 2001, and I live in Suwon.\n"
     ]
    }
   ],
   "source": [
    "def introduce_myself(name, birthyear, city):\n",
    "    print(\"Hello everyone, My name is %s, I was born in %d, and I live in %s.\" %(name, birthyear, city))\n",
    "introduce_myself(\"jiwon\", 2001, \"Suwon\")"
   ]
  },
  {
   "cell_type": "code",
   "execution_count": 14,
   "id": "bcc4140b",
   "metadata": {},
   "outputs": [
    {
     "name": "stdout",
     "output_type": "stream",
     "text": [
      "2021 is not a leap year.\n"
     ]
    }
   ],
   "source": [
    "def check_leap_year(year):\n",
    "    if year %4 ==0:\n",
    "        return \"%s is a leap year.\" %(year)\n",
    "    else:\n",
    "        return \"%s is not a leap year.\" %(year)\n",
    "    \n",
    "result = check_leap_year(2021)\n",
    "print(result)"
   ]
  },
  {
   "cell_type": "code",
   "execution_count": 21,
   "id": "2f5e3ef8",
   "metadata": {},
   "outputs": [
    {
     "name": "stdout",
     "output_type": "stream",
     "text": [
      "9 16 25\n"
     ]
    }
   ],
   "source": [
    "def square_point(x, y, z):\n",
    "    x_squared= x ** 2\n",
    "    y_squared= y ** 2\n",
    "    z_squared= z ** 2\n",
    "    return x_squared, y_squared, z_squared\n",
    "\n",
    "three_squared, four_squared, five_squared = square_point(3, 4, 5)\n",
    "print(three_squared, four_squared, five_squared)"
   ]
  },
  {
   "cell_type": "code",
   "execution_count": 22,
   "id": "254bf399",
   "metadata": {},
   "outputs": [
    {
     "name": "stdout",
     "output_type": "stream",
     "text": [
      "Hello\n"
     ]
    }
   ],
   "source": [
    "a=\"Hello\"\n",
    "\n",
    "def print_a():\n",
    "    print(a)\n",
    "    \n",
    "print_a()"
   ]
  },
  {
   "cell_type": "code",
   "execution_count": 23,
   "id": "d9034a13",
   "metadata": {},
   "outputs": [
    {
     "name": "stdout",
     "output_type": "stream",
     "text": [
      "2\n"
     ]
    },
    {
     "ename": "NameError",
     "evalue": "name 'b' is not defined",
     "output_type": "error",
     "traceback": [
      "\u001b[1;31m---------------------------------------------------------------------------\u001b[0m",
      "\u001b[1;31mNameError\u001b[0m                                 Traceback (most recent call last)",
      "\u001b[1;32m<ipython-input-23-8da47bde5652>\u001b[0m in \u001b[0;36m<module>\u001b[1;34m\u001b[0m\n\u001b[0;32m      3\u001b[0m     \u001b[0mprint\u001b[0m\u001b[1;33m(\u001b[0m\u001b[0mb\u001b[0m\u001b[1;33m)\u001b[0m\u001b[1;33m\u001b[0m\u001b[1;33m\u001b[0m\u001b[0m\n\u001b[0;32m      4\u001b[0m \u001b[0mf1\u001b[0m\u001b[1;33m(\u001b[0m\u001b[1;33m)\u001b[0m\u001b[1;33m\u001b[0m\u001b[1;33m\u001b[0m\u001b[0m\n\u001b[1;32m----> 5\u001b[1;33m \u001b[0mprint\u001b[0m\u001b[1;33m(\u001b[0m\u001b[0mb\u001b[0m\u001b[1;33m)\u001b[0m\u001b[1;33m\u001b[0m\u001b[1;33m\u001b[0m\u001b[0m\n\u001b[0m",
      "\u001b[1;31mNameError\u001b[0m: name 'b' is not defined"
     ]
    }
   ],
   "source": [
    "def f1():\n",
    "    b=2\n",
    "    print(b)\n",
    "f1()\n",
    "print(b)"
   ]
  },
  {
   "cell_type": "code",
   "execution_count": 24,
   "id": "2481b0fc",
   "metadata": {},
   "outputs": [
    {
     "name": "stdout",
     "output_type": "stream",
     "text": [
      "Height = 1\n",
      "Width = 2\n",
      "Depth = 3\n"
     ]
    },
    {
     "data": {
      "text/plain": [
       "6"
      ]
     },
     "execution_count": 24,
     "metadata": {},
     "output_type": "execute_result"
    }
   ],
   "source": [
    "def findvolume(h, w, d):\n",
    "    print(\"Height = %s\" %(h))\n",
    "    print(\"Width = %s\" %(w))\n",
    "    print(\"Depth = %s\" %(d))\n",
    "    return h*w*d\n",
    "\n",
    "findvolume(1, 2, 3)"
   ]
  }
 ],
 "metadata": {
  "kernelspec": {
   "display_name": "Python 3",
   "language": "python",
   "name": "python3"
  },
  "language_info": {
   "codemirror_mode": {
    "name": "ipython",
    "version": 3
   },
   "file_extension": ".py",
   "mimetype": "text/x-python",
   "name": "python",
   "nbconvert_exporter": "python",
   "pygments_lexer": "ipython3",
   "version": "3.8.8"
  }
 },
 "nbformat": 4,
 "nbformat_minor": 5
}
