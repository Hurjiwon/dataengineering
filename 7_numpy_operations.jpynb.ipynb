{
 "cells": [
  {
   "cell_type": "code",
   "execution_count": 3,
   "id": "6361d9c5",
   "metadata": {},
   "outputs": [],
   "source": [
    "import numpy as np"
   ]
  },
  {
   "cell_type": "code",
   "execution_count": 4,
   "id": "b1637592",
   "metadata": {},
   "outputs": [
    {
     "name": "stdout",
     "output_type": "stream",
     "text": [
      "[0 1 2]\n",
      "[3 4 5 6 7 8]\n",
      "[3 5 7]\n"
     ]
    }
   ],
   "source": [
    "print(np.arange(3))\n",
    "print(np.arange(3,9))\n",
    "print(np.arange(3,9,2))"
   ]
  },
  {
   "cell_type": "code",
   "execution_count": 8,
   "id": "bc9e05d6",
   "metadata": {},
   "outputs": [
    {
     "name": "stdout",
     "output_type": "stream",
     "text": [
      "[6 0 1 0 2 7]\n",
      "[[[1 5 4 8 2]\n",
      "  [7 2 3 0 7]\n",
      "  [5 8 4 9 9]\n",
      "  [3 1 6 2 3]]\n",
      "\n",
      " [[1 6 7 5 3]\n",
      "  [2 6 4 5 7]\n",
      "  [0 6 7 8 6]\n",
      "  [1 7 4 2 2]]\n",
      "\n",
      " [[5 1 4 6 5]\n",
      "  [6 5 4 0 9]\n",
      "  [6 2 9 6 5]\n",
      "  [0 4 3 7 5]]]\n"
     ]
    }
   ],
   "source": [
    "arr1 = np.random.randint(10, size = 6)\n",
    "print(arr1)\n",
    "\n",
    "arr2 = np.random.randint(10, size = (3,4,5))\n",
    "print(arr2)"
   ]
  },
  {
   "cell_type": "code",
   "execution_count": 10,
   "id": "ff943029",
   "metadata": {},
   "outputs": [
    {
     "name": "stdout",
     "output_type": "stream",
     "text": [
      "[[5 8 9 5]\n",
      " [0 0 1 7]\n",
      " [6 9 2 4]]\n",
      "arr.ndim =  2\n",
      "arr.shape =  (3, 4)\n",
      "arr.size =  12\n",
      "arr.itemsize =  4\n",
      "arr.nbytes =  48\n"
     ]
    }
   ],
   "source": [
    "np.random.seed(1)\n",
    "arr=np.random.randint(10, size = (3,4))\n",
    "print(arr)\n",
    "print(\"arr.ndim = \",arr.ndim)\n",
    "print(\"arr.shape = \",arr.shape)\n",
    "print(\"arr.size = \",arr.size)\n",
    "print(\"arr.itemsize = \",arr.itemsize)\n",
    "print(\"arr.nbytes = \",arr.nbytes)"
   ]
  },
  {
   "cell_type": "code",
   "execution_count": 13,
   "id": "5cb9e2ac",
   "metadata": {},
   "outputs": [
    {
     "name": "stdout",
     "output_type": "stream",
     "text": [
      "[0 1 2 3 4 5 6 7 8 9]\n",
      "[3 4 5 6]\n",
      "[0 3 6]\n",
      "[1 3 5 7]\n"
     ]
    }
   ],
   "source": [
    "arr = np.arange(10)\n",
    "print(arr)\n",
    "print(arr[3:7])\n",
    "print(arr[:9:3])\n",
    "print(arr[1:9:2])"
   ]
  },
  {
   "cell_type": "code",
   "execution_count": 14,
   "id": "c63be223",
   "metadata": {},
   "outputs": [
    {
     "name": "stdout",
     "output_type": "stream",
     "text": [
      "[[8 8 6 2 8 7 2 1]\n",
      " [5 4 4 5 7 3 6 4]\n",
      " [3 7 6 1 3 5 8 4]\n",
      " [6 3 9 2 0 4 2 4]\n",
      " [1 7 8 2 9 8 7 1]\n",
      " [6 8 5 9 9 9 3 0]]\n",
      "[[8 8]\n",
      " [5 4]]\n",
      "[[99  8  6  2  8  7  2  1]\n",
      " [ 5  4  4  5  7  3  6  4]\n",
      " [ 3  7  6  1  3  5  8  4]\n",
      " [ 6  3  9  2  0  4  2  4]\n",
      " [ 1  7  8  2  9  8  7  1]\n",
      " [ 6  8  5  9  9  9  3  0]]\n"
     ]
    }
   ],
   "source": [
    "np.random.seed(2)\n",
    "arr=np.random.randint(10, size = (6,8))\n",
    "print(arr)\n",
    "\n",
    "arr_sub = arr[:2, :2]\n",
    "print(arr_sub)\n",
    "\n",
    "arr_sub[0,0] = 99\n",
    "print(arr)"
   ]
  },
  {
   "cell_type": "code",
   "execution_count": 16,
   "id": "70248dee",
   "metadata": {},
   "outputs": [
    {
     "name": "stdout",
     "output_type": "stream",
     "text": [
      "[[8 9 3 8 8 0 5 3]\n",
      " [9 9 5 7 6 0 4 7]\n",
      " [8 1 6 2 2 1 3 5]\n",
      " [8 1 8 7 8 1 0 5]\n",
      " [4 1 5 4 7 6 0 0]\n",
      " [9 2 4 5 8 8 7 5]]\n",
      "[[8 9]\n",
      " [9 9]]\n"
     ]
    }
   ],
   "source": [
    "np.random.seed(3)\n",
    "arr= np.random.randint(10, size =(6,8))\n",
    "print(arr)\n",
    "\n",
    "arr_sub = arr[:2, :2].copy()\n",
    "print(arr_sub)\n"
   ]
  },
  {
   "cell_type": "code",
   "execution_count": 17,
   "id": "5b2dc5dd",
   "metadata": {},
   "outputs": [
    {
     "name": "stdout",
     "output_type": "stream",
     "text": [
      "[[[8 9 3 8 8 0 5 3]]\n",
      "\n",
      " [[9 9 5 7 6 0 4 7]]\n",
      "\n",
      " [[8 1 6 2 2 1 3 5]]\n",
      "\n",
      " [[8 1 8 7 8 1 0 5]]\n",
      "\n",
      " [[4 1 5 4 7 6 0 0]]\n",
      "\n",
      " [[9 2 4 5 8 8 7 5]]]\n"
     ]
    },
    {
     "ename": "NameError",
     "evalue": "name 'arint' is not defined",
     "output_type": "error",
     "traceback": [
      "\u001b[1;31m---------------------------------------------------------------------------\u001b[0m",
      "\u001b[1;31mNameError\u001b[0m                                 Traceback (most recent call last)",
      "\u001b[1;32m<ipython-input-17-6d996c045cb4>\u001b[0m in \u001b[0;36m<module>\u001b[1;34m\u001b[0m\n\u001b[0;32m      1\u001b[0m \u001b[0marr_new\u001b[0m \u001b[1;33m=\u001b[0m \u001b[0marr\u001b[0m\u001b[1;33m[\u001b[0m\u001b[1;33m:\u001b[0m\u001b[1;33m,\u001b[0m \u001b[0mnp\u001b[0m\u001b[1;33m.\u001b[0m\u001b[0mnewaxis\u001b[0m\u001b[1;33m]\u001b[0m\u001b[1;33m\u001b[0m\u001b[1;33m\u001b[0m\u001b[0m\n\u001b[0;32m      2\u001b[0m \u001b[0mprint\u001b[0m\u001b[1;33m(\u001b[0m\u001b[0marr_new\u001b[0m\u001b[1;33m)\u001b[0m\u001b[1;33m\u001b[0m\u001b[1;33m\u001b[0m\u001b[0m\n\u001b[1;32m----> 3\u001b[1;33m \u001b[0marint\u001b[0m\u001b[1;33m(\u001b[0m\u001b[0marr_new\u001b[0m\u001b[1;33m.\u001b[0m\u001b[0mshape\u001b[0m\u001b[1;33m,\u001b[0m \u001b[1;34m'/n'\u001b[0m\u001b[1;33m)\u001b[0m\u001b[1;33m\u001b[0m\u001b[1;33m\u001b[0m\u001b[0m\n\u001b[0m",
      "\u001b[1;31mNameError\u001b[0m: name 'arint' is not defined"
     ]
    }
   ],
   "source": [
    "arr_new = arr[:, np.newaxis]\n",
    "print(arr_new)\n",
    "arint(arr_new.shape, '/n')"
   ]
  },
  {
   "cell_type": "code",
   "execution_count": 21,
   "id": "4a61387b",
   "metadata": {},
   "outputs": [
    {
     "name": "stdout",
     "output_type": "stream",
     "text": [
      "[1 2 3 4 5 6 7 8 9]\n",
      "[[1 2 3]\n",
      " [4 5 6]\n",
      " [7 8 9]]\n",
      "[1 2 3 4 5 6 7 8 9]\n"
     ]
    }
   ],
   "source": [
    "arr_1 = np.array([1,2,3])\n",
    "arr_2 = np.array([4,5,6])\n",
    "arr_3 = np.array([7,8,9])\n",
    "\n",
    "arr_total = np.concatenate([arr_1, arr_2, arr_3])\n",
    "print(arr_total)\n",
    "\n",
    "arr_total = np.vstack([arr_1, arr_2, arr_3])\n",
    "print(arr_total)\n",
    "\n",
    "arr_total = np.hstack([arr_1, arr_2, arr_3])\n",
    "print(arr_total)"
   ]
  },
  {
   "cell_type": "code",
   "execution_count": null,
   "id": "20d059a5",
   "metadata": {},
   "outputs": [],
   "source": []
  }
 ],
 "metadata": {
  "kernelspec": {
   "display_name": "Python 3",
   "language": "python",
   "name": "python3"
  },
  "language_info": {
   "codemirror_mode": {
    "name": "ipython",
    "version": 3
   },
   "file_extension": ".py",
   "mimetype": "text/x-python",
   "name": "python",
   "nbconvert_exporter": "python",
   "pygments_lexer": "ipython3",
   "version": "3.8.8"
  }
 },
 "nbformat": 4,
 "nbformat_minor": 5
}
